{
  "nbformat": 4,
  "nbformat_minor": 0,
  "metadata": {
    "colab": {
      "name": "ch06-part11~12-numpy연산-해설",
      "provenance": [],
      "collapsed_sections": []
    },
    "kernelspec": {
      "name": "python3",
      "display_name": "Python 3"
    }
  },
  "cells": [
    {
      "cell_type": "code",
      "metadata": {
        "id": "U7s6AtWoNKFW",
        "colab_type": "code",
        "colab": {}
      },
      "source": [
        "import numpy as np"
      ],
      "execution_count": 0,
      "outputs": []
    },
    {
      "cell_type": "markdown",
      "metadata": {
        "id": "J-4ydWDzNURb",
        "colab_type": "text"
      },
      "source": [
        "## 1. 행렬 - 덧셈"
      ]
    },
    {
      "cell_type": "markdown",
      "metadata": {
        "id": "3-0o_diBmzgD",
        "colab_type": "text"
      },
      "source": [
        "### 1-1. 덧셈"
      ]
    },
    {
      "cell_type": "code",
      "metadata": {
        "id": "Lh3y_RbfiPni",
        "colab_type": "code",
        "colab": {}
      },
      "source": [
        "a = np.array([[1, 2, 3], \n",
        "              [2, 3, 4]])"
      ],
      "execution_count": 0,
      "outputs": []
    },
    {
      "cell_type": "code",
      "metadata": {
        "id": "vd3Iw_g-iV-X",
        "colab_type": "code",
        "colab": {}
      },
      "source": [
        "b = np.array([[3, 4, 5], \n",
        "              [1, 2, 3]])"
      ],
      "execution_count": 0,
      "outputs": []
    },
    {
      "cell_type": "code",
      "metadata": {
        "id": "X4yUimJnipFS",
        "colab_type": "code",
        "colab": {}
      },
      "source": [
        "a + b"
      ],
      "execution_count": 0,
      "outputs": []
    },
    {
      "cell_type": "code",
      "metadata": {
        "id": "CAUnCt2AiqC8",
        "colab_type": "code",
        "colab": {}
      },
      "source": [
        "a = np.array([[1, 2, 3], \n",
        "              [2, 3, 4]])"
      ],
      "execution_count": 0,
      "outputs": []
    },
    {
      "cell_type": "code",
      "metadata": {
        "id": "SlM2GcNXi2f9",
        "colab_type": "code",
        "colab": {}
      },
      "source": [
        "b = np.array([[1, 2],\n",
        "              [3, 4],  \n",
        "              [5, 6]])"
      ],
      "execution_count": 0,
      "outputs": []
    },
    {
      "cell_type": "code",
      "metadata": {
        "id": "Q-igN6O8i_HX",
        "colab_type": "code",
        "colab": {}
      },
      "source": [
        "a + b"
      ],
      "execution_count": 0,
      "outputs": []
    },
    {
      "cell_type": "markdown",
      "metadata": {
        "id": "E3vTxFshmwWE",
        "colab_type": "text"
      },
      "source": [
        "### 1-2. Sum"
      ]
    },
    {
      "cell_type": "code",
      "metadata": {
        "id": "bqPASSvum5wg",
        "colab_type": "code",
        "colab": {}
      },
      "source": [
        "a = np.array([[1, 2, 3], \n",
        "              [2, 3, 4]])"
      ],
      "execution_count": 0,
      "outputs": []
    },
    {
      "cell_type": "code",
      "metadata": {
        "id": "jeoEBHLdjYug",
        "colab_type": "code",
        "colab": {}
      },
      "source": [
        "np.sum(a, axis=0)"
      ],
      "execution_count": 0,
      "outputs": []
    },
    {
      "cell_type": "code",
      "metadata": {
        "id": "eQWg_pktjY3O",
        "colab_type": "code",
        "colab": {}
      },
      "source": [
        "np.sum(a, axis=1)"
      ],
      "execution_count": 0,
      "outputs": []
    },
    {
      "cell_type": "code",
      "metadata": {
        "id": "JbiqhszmjplR",
        "colab_type": "code",
        "colab": {}
      },
      "source": [
        ""
      ],
      "execution_count": 0,
      "outputs": []
    },
    {
      "cell_type": "markdown",
      "metadata": {
        "id": "2i5mj3kPitwV",
        "colab_type": "text"
      },
      "source": [
        "## 2. 행렬 - 뺄셈"
      ]
    },
    {
      "cell_type": "code",
      "metadata": {
        "id": "KQ5__Wapit2B",
        "colab_type": "code",
        "colab": {}
      },
      "source": [
        "a = np.array([[1, 2, 3], \n",
        "              [2, 3, 4]])"
      ],
      "execution_count": 0,
      "outputs": []
    },
    {
      "cell_type": "code",
      "metadata": {
        "id": "WaQM8NF_ixTx",
        "colab_type": "code",
        "colab": {}
      },
      "source": [
        "b = np.array([[3, 4, 5], \n",
        "              [1, 2, 3]])"
      ],
      "execution_count": 0,
      "outputs": []
    },
    {
      "cell_type": "code",
      "metadata": {
        "id": "2G9YGVpviyvI",
        "colab_type": "code",
        "colab": {}
      },
      "source": [
        "a - b"
      ],
      "execution_count": 0,
      "outputs": []
    },
    {
      "cell_type": "code",
      "metadata": {
        "id": "emOen6CKizae",
        "colab_type": "code",
        "colab": {}
      },
      "source": [
        "a = np.array([[1, 2, 3], \n",
        "              [2, 3, 4]])"
      ],
      "execution_count": 0,
      "outputs": []
    },
    {
      "cell_type": "code",
      "metadata": {
        "id": "FigY31D3jKIr",
        "colab_type": "code",
        "colab": {}
      },
      "source": [
        "b = np.array([[1, 2],\n",
        "              [3, 4],  \n",
        "              [5, 6]])"
      ],
      "execution_count": 0,
      "outputs": []
    },
    {
      "cell_type": "code",
      "metadata": {
        "id": "KzFtRreDjLBR",
        "colab_type": "code",
        "colab": {}
      },
      "source": [
        "a - b"
      ],
      "execution_count": 0,
      "outputs": []
    },
    {
      "cell_type": "code",
      "metadata": {
        "id": "xIPSmk5ZjLzd",
        "colab_type": "code",
        "colab": {}
      },
      "source": [
        ""
      ],
      "execution_count": 0,
      "outputs": []
    },
    {
      "cell_type": "markdown",
      "metadata": {
        "id": "WtLrPvkejNYy",
        "colab_type": "text"
      },
      "source": [
        "## 3. 곱셈"
      ]
    },
    {
      "cell_type": "markdown",
      "metadata": {
        "id": "8nS0zT3iawVm",
        "colab_type": "text"
      },
      "source": [
        "일반 곱셈"
      ]
    },
    {
      "cell_type": "code",
      "metadata": {
        "id": "c77DVAVhjXU7",
        "colab_type": "code",
        "colab": {}
      },
      "source": [
        "a = np.array([[1, 2, 3], \n",
        "              [2, 3, 4]])"
      ],
      "execution_count": 0,
      "outputs": []
    },
    {
      "cell_type": "code",
      "metadata": {
        "id": "odd96IHRYewH",
        "colab_type": "code",
        "colab": {}
      },
      "source": [
        "b = np.array([[3, 4, 5], \n",
        "              [1, 2, 3]])"
      ],
      "execution_count": 0,
      "outputs": []
    },
    {
      "cell_type": "code",
      "metadata": {
        "id": "BjqbDFGKYf_9",
        "colab_type": "code",
        "outputId": "2050fe43-8069-4e23-fbeb-e974065d9be5",
        "colab": {
          "base_uri": "https://localhost:8080/",
          "height": 34
        }
      },
      "source": [
        "a.shape, b.shape"
      ],
      "execution_count": 0,
      "outputs": [
        {
          "output_type": "execute_result",
          "data": {
            "text/plain": [
              "((2, 3), (2, 3))"
            ]
          },
          "metadata": {
            "tags": []
          },
          "execution_count": 54
        }
      ]
    },
    {
      "cell_type": "code",
      "metadata": {
        "id": "RZzSCNDDYlFU",
        "colab_type": "code",
        "outputId": "6d6773cc-7120-474f-f4bc-2d92e08db08e",
        "colab": {
          "base_uri": "https://localhost:8080/",
          "height": 52
        }
      },
      "source": [
        "a * b"
      ],
      "execution_count": 0,
      "outputs": [
        {
          "output_type": "execute_result",
          "data": {
            "text/plain": [
              "array([[ 3,  8, 15],\n",
              "       [ 2,  6, 12]])"
            ]
          },
          "metadata": {
            "tags": []
          },
          "execution_count": 55
        }
      ]
    },
    {
      "cell_type": "markdown",
      "metadata": {
        "id": "LsHFs8ztapqx",
        "colab_type": "text"
      },
      "source": [
        "단순 곱셈과 dot product는 다릅니다. 이점 유의하세요!"
      ]
    },
    {
      "cell_type": "code",
      "metadata": {
        "id": "CmNwxLQ9aoCb",
        "colab_type": "code",
        "colab": {}
      },
      "source": [
        "a = np.array([[1, 2, 3], \n",
        "              [2, 3, 4]])"
      ],
      "execution_count": 0,
      "outputs": []
    },
    {
      "cell_type": "code",
      "metadata": {
        "id": "hdiVhVBycCDF",
        "colab_type": "code",
        "colab": {}
      },
      "source": [
        "b = np.array([[3, 4, 5], \n",
        "              [1, 2, 3]])"
      ],
      "execution_count": 0,
      "outputs": []
    },
    {
      "cell_type": "code",
      "metadata": {
        "id": "4KcFjtIMkEO1",
        "colab_type": "code",
        "colab": {}
      },
      "source": [
        "b = np.array([[1, 2],\n",
        "              [3, 4],  \n",
        "              [5, 6]])"
      ],
      "execution_count": 0,
      "outputs": []
    },
    {
      "cell_type": "code",
      "metadata": {
        "id": "qRaVZEkTkvY-",
        "colab_type": "code",
        "outputId": "3716c5ed-43b2-48c4-d259-0d59fd3f1fac",
        "colab": {
          "base_uri": "https://localhost:8080/",
          "height": 52
        }
      },
      "source": [
        "a * b"
      ],
      "execution_count": 0,
      "outputs": [
        {
          "output_type": "execute_result",
          "data": {
            "text/plain": [
              "array([[ 3,  8, 15],\n",
              "       [ 2,  6, 12]])"
            ]
          },
          "metadata": {
            "tags": []
          },
          "execution_count": 58
        }
      ]
    },
    {
      "cell_type": "code",
      "metadata": {
        "id": "IjLq85LZcaAw",
        "colab_type": "code",
        "colab": {}
      },
      "source": [
        "a = np.array([[1, 2, 3],\n",
        "              [1, 2, 3], \n",
        "              [2, 3, 4]])"
      ],
      "execution_count": 0,
      "outputs": []
    },
    {
      "cell_type": "code",
      "metadata": {
        "id": "yjMc_ChccZ5O",
        "colab_type": "code",
        "colab": {}
      },
      "source": [
        "b = np.array([[1, 2],\n",
        "              [3, 4],  \n",
        "              [5, 6]])"
      ],
      "execution_count": 0,
      "outputs": []
    },
    {
      "cell_type": "code",
      "metadata": {
        "id": "HfG4xgYpcZkr",
        "colab_type": "code",
        "outputId": "f629e251-060a-48dc-9011-8465e9129714",
        "colab": {
          "base_uri": "https://localhost:8080/",
          "height": 34
        }
      },
      "source": [
        "a.shape, b.shape"
      ],
      "execution_count": 0,
      "outputs": [
        {
          "output_type": "execute_result",
          "data": {
            "text/plain": [
              "((3, 3), (3, 2))"
            ]
          },
          "metadata": {
            "tags": []
          },
          "execution_count": 67
        }
      ]
    },
    {
      "cell_type": "code",
      "metadata": {
        "id": "EP3l6ATCkF53",
        "colab_type": "code",
        "outputId": "6ddc8914-3c74-4879-c345-c473c87f5919",
        "colab": {
          "base_uri": "https://localhost:8080/",
          "height": 70
        }
      },
      "source": [
        "np.dot(a, b)"
      ],
      "execution_count": 0,
      "outputs": [
        {
          "output_type": "execute_result",
          "data": {
            "text/plain": [
              "array([[22, 28],\n",
              "       [22, 28],\n",
              "       [31, 40]])"
            ]
          },
          "metadata": {
            "tags": []
          },
          "execution_count": 68
        }
      ]
    },
    {
      "cell_type": "code",
      "metadata": {
        "id": "REB-cPUCk0Tm",
        "colab_type": "code",
        "outputId": "8aea5854-f289-44cd-dda9-dab5d558f183",
        "colab": {
          "base_uri": "https://localhost:8080/",
          "height": 70
        }
      },
      "source": [
        "a.dot(b)"
      ],
      "execution_count": 0,
      "outputs": [
        {
          "output_type": "execute_result",
          "data": {
            "text/plain": [
              "array([[22, 28],\n",
              "       [22, 28],\n",
              "       [31, 40]])"
            ]
          },
          "metadata": {
            "tags": []
          },
          "execution_count": 69
        }
      ]
    },
    {
      "cell_type": "code",
      "metadata": {
        "id": "ht9KLaDGkJcO",
        "colab_type": "code",
        "colab": {}
      },
      "source": [
        "1*1 + 2*3 + 3*5"
      ],
      "execution_count": 0,
      "outputs": []
    },
    {
      "cell_type": "code",
      "metadata": {
        "id": "lmbMu2CSkhaB",
        "colab_type": "code",
        "colab": {}
      },
      "source": [
        "1*2 + 2*4 + 3*6"
      ],
      "execution_count": 0,
      "outputs": []
    },
    {
      "cell_type": "code",
      "metadata": {
        "id": "X-y2mNLdklXI",
        "colab_type": "code",
        "colab": {}
      },
      "source": [
        ""
      ],
      "execution_count": 0,
      "outputs": []
    }
  ]
}