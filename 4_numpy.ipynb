{
  "nbformat": 4,
  "nbformat_minor": 0,
  "metadata": {
    "colab": {
      "name": "ch03-part04-sort(정렬)-해설",
      "provenance": [],
      "collapsed_sections": []
    },
    "kernelspec": {
      "name": "python3",
      "display_name": "Python 3"
    }
  },
  "cells": [
    {
      "cell_type": "code",
      "metadata": {
        "id": "MHrD2Y3QJq7l",
        "colab_type": "code",
        "colab": {}
      },
      "source": [
        "import numpy as np"
      ],
      "execution_count": 0,
      "outputs": []
    },
    {
      "cell_type": "markdown",
      "metadata": {
        "id": "VGNy7j4vAWGC",
        "colab_type": "text"
      },
      "source": [
        "## 1. 1차원 정렬"
      ]
    },
    {
      "cell_type": "markdown",
      "metadata": {
        "id": "-9nSxjZEJ4WH",
        "colab_type": "text"
      },
      "source": [
        "1차원 정렬은 매우 간단합니다."
      ]
    },
    {
      "cell_type": "code",
      "metadata": {
        "id": "N8srXe3kJ1CI",
        "colab_type": "code",
        "colab": {}
      },
      "source": [
        "arr = np.array([1, 10, 5, 8, 2, 4, 3, 6, 8, 7, 9])"
      ],
      "execution_count": 0,
      "outputs": []
    },
    {
      "cell_type": "code",
      "metadata": {
        "id": "qjKfuAWwKHuv",
        "colab_type": "code",
        "colab": {}
      },
      "source": [
        "arr"
      ],
      "execution_count": 0,
      "outputs": []
    },
    {
      "cell_type": "markdown",
      "metadata": {
        "id": "qJgxXiw6KJoo",
        "colab_type": "text"
      },
      "source": [
        "np.sort(arr)"
      ]
    },
    {
      "cell_type": "code",
      "metadata": {
        "id": "7KvWPPaPKLep",
        "colab_type": "code",
        "colab": {}
      },
      "source": [
        "np.sort(arr)"
      ],
      "execution_count": 0,
      "outputs": []
    },
    {
      "cell_type": "markdown",
      "metadata": {
        "id": "pvJTDEsTKORq",
        "colab_type": "text"
      },
      "source": [
        "기본적으로 오름차순 정렬을 수행합니다."
      ]
    },
    {
      "cell_type": "code",
      "metadata": {
        "id": "rAO6KvBXKMMw",
        "colab_type": "code",
        "colab": {}
      },
      "source": [
        "np.sort(arr)[::-1]"
      ],
      "execution_count": 0,
      "outputs": []
    },
    {
      "cell_type": "markdown",
      "metadata": {
        "id": "OsuNJIbtKNLw",
        "colab_type": "text"
      },
      "source": [
        "내림차순 정렬은 옵션에 -1 값을 주면됩니다."
      ]
    },
    {
      "cell_type": "markdown",
      "metadata": {
        "id": "pua2SnjpKWln",
        "colab_type": "text"
      },
      "source": [
        "하지만, 이 값들은 **유지가 되지 않습니다**!"
      ]
    },
    {
      "cell_type": "markdown",
      "metadata": {
        "id": "mWfIMYU4K24Q",
        "colab_type": "text"
      },
      "source": [
        "값을 sort 된 상태로 저장하려면, 배열 자체에 sort를 해줄 수 있습니다."
      ]
    },
    {
      "cell_type": "code",
      "metadata": {
        "id": "eiDxXfm9qwqs",
        "colab_type": "code",
        "colab": {}
      },
      "source": [
        "np.sort(arr)"
      ],
      "execution_count": 0,
      "outputs": []
    },
    {
      "cell_type": "code",
      "metadata": {
        "id": "jMN43SI_qyXN",
        "colab_type": "code",
        "colab": {}
      },
      "source": [
        "arr2 = np.sort(arr)"
      ],
      "execution_count": 0,
      "outputs": []
    },
    {
      "cell_type": "code",
      "metadata": {
        "id": "00DnLZIxq7eA",
        "colab_type": "code",
        "colab": {}
      },
      "source": [
        "arr"
      ],
      "execution_count": 0,
      "outputs": []
    },
    {
      "cell_type": "code",
      "metadata": {
        "id": "YNG3GMwxq5sn",
        "colab_type": "code",
        "colab": {}
      },
      "source": [
        "arr2"
      ],
      "execution_count": 0,
      "outputs": []
    },
    {
      "cell_type": "code",
      "metadata": {
        "id": "9K9cV72ZK-Ko",
        "colab_type": "code",
        "colab": {}
      },
      "source": [
        "arr.sort()"
      ],
      "execution_count": 0,
      "outputs": []
    },
    {
      "cell_type": "code",
      "metadata": {
        "id": "6uMEnTSnK_Mw",
        "colab_type": "code",
        "colab": {}
      },
      "source": [
        "arr"
      ],
      "execution_count": 0,
      "outputs": []
    },
    {
      "cell_type": "code",
      "metadata": {
        "id": "v6kMjKTRK_-o",
        "colab_type": "code",
        "colab": {}
      },
      "source": [
        ""
      ],
      "execution_count": 0,
      "outputs": []
    },
    {
      "cell_type": "markdown",
      "metadata": {
        "id": "baXVQJQxLCww",
        "colab_type": "text"
      },
      "source": [
        "## 2. N차원 정렬"
      ]
    },
    {
      "cell_type": "code",
      "metadata": {
        "id": "Z065jsH2LGlg",
        "colab_type": "code",
        "colab": {}
      },
      "source": [
        "arr2d = np.array([[5, 6, 7, 8], \n",
        "                  [4, 3, 2, 1],\n",
        "                  [10, 9, 12, 11]])"
      ],
      "execution_count": 0,
      "outputs": []
    },
    {
      "cell_type": "code",
      "metadata": {
        "id": "U9ch4G44rieM",
        "colab_type": "code",
        "colab": {}
      },
      "source": [
        "arr2d.shape"
      ],
      "execution_count": 0,
      "outputs": []
    },
    {
      "cell_type": "code",
      "metadata": {
        "id": "-05V5VoCLTCd",
        "colab_type": "code",
        "colab": {}
      },
      "source": [
        "arr2d"
      ],
      "execution_count": 0,
      "outputs": []
    },
    {
      "cell_type": "markdown",
      "metadata": {
        "id": "oHGGgf9cLxxQ",
        "colab_type": "text"
      },
      "source": [
        "### 2-1. 열 정렬 (왼쪽에서 오른쪽으로)"
      ]
    },
    {
      "cell_type": "code",
      "metadata": {
        "id": "qQqbg2nyL8Cw",
        "colab_type": "code",
        "colab": {}
      },
      "source": [
        "arr2d"
      ],
      "execution_count": 0,
      "outputs": []
    },
    {
      "cell_type": "code",
      "metadata": {
        "id": "tw5Wrw_ZLVkf",
        "colab_type": "code",
        "colab": {}
      },
      "source": [
        "np.sort(arr2d, axis=1)"
      ],
      "execution_count": 0,
      "outputs": []
    },
    {
      "cell_type": "markdown",
      "metadata": {
        "id": "5gKzuuOJLr-P",
        "colab_type": "text"
      },
      "source": [
        "### 2-2. 행 정렬 (위에서 아래로)"
      ]
    },
    {
      "cell_type": "code",
      "metadata": {
        "id": "tuZHbojFL5az",
        "colab_type": "code",
        "colab": {}
      },
      "source": [
        "arr2d"
      ],
      "execution_count": 0,
      "outputs": []
    },
    {
      "cell_type": "code",
      "metadata": {
        "id": "50fUgOYtLYbg",
        "colab_type": "code",
        "colab": {}
      },
      "source": [
        "np.sort(arr2d, axis=0)"
      ],
      "execution_count": 0,
      "outputs": []
    },
    {
      "cell_type": "code",
      "metadata": {
        "id": "D-lDUXjYLcOQ",
        "colab_type": "code",
        "colab": {}
      },
      "source": [
        ""
      ],
      "execution_count": 0,
      "outputs": []
    },
    {
      "cell_type": "markdown",
      "metadata": {
        "id": "shL5hUigMKVf",
        "colab_type": "text"
      },
      "source": [
        "## 3. index를 반환하는 argsort"
      ]
    },
    {
      "cell_type": "markdown",
      "metadata": {
        "id": "jZTm3IVRMOys",
        "colab_type": "text"
      },
      "source": [
        "정렬된 값을 반환하는 것이 아닌 index를 반환합니다."
      ]
    },
    {
      "cell_type": "code",
      "metadata": {
        "id": "KMIrKnTNMSeP",
        "colab_type": "code",
        "colab": {}
      },
      "source": [
        "arr2d = np.array([[5, 6, 7, 8], \n",
        "                  [4, 3, 2, 1],\n",
        "                  [10, 9, 12, 11]])"
      ],
      "execution_count": 0,
      "outputs": []
    },
    {
      "cell_type": "markdown",
      "metadata": {
        "id": "OSVeVt9MMYf_",
        "colab_type": "text"
      },
      "source": [
        "\n",
        "### 3-1. 열 정렬 (왼쪽에서 오른쪽으로)"
      ]
    },
    {
      "cell_type": "code",
      "metadata": {
        "id": "a0iDxGE3MFfF",
        "colab_type": "code",
        "outputId": "c56ea2be-b6bb-4d1a-af68-205203121fee",
        "colab": {
          "base_uri": "https://localhost:8080/",
          "height": 70
        }
      },
      "source": [
        "np.argsort(arr2d, axis=1)"
      ],
      "execution_count": 0,
      "outputs": [
        {
          "output_type": "execute_result",
          "data": {
            "text/plain": [
              "array([[0, 1, 2, 3],\n",
              "       [3, 2, 1, 0],\n",
              "       [1, 0, 3, 2]])"
            ]
          },
          "metadata": {
            "tags": []
          },
          "execution_count": 23
        }
      ]
    },
    {
      "cell_type": "markdown",
      "metadata": {
        "id": "ae1f3EujMH-X",
        "colab_type": "text"
      },
      "source": [
        "### 3-2. 행 정렬"
      ]
    },
    {
      "cell_type": "code",
      "metadata": {
        "id": "usl8PioHMp4A",
        "colab_type": "code",
        "outputId": "ceb11b0d-c543-4593-ed10-7c0c691c9709",
        "colab": {
          "base_uri": "https://localhost:8080/",
          "height": 70
        }
      },
      "source": [
        "arr2d"
      ],
      "execution_count": 0,
      "outputs": [
        {
          "output_type": "execute_result",
          "data": {
            "text/plain": [
              "array([[ 5,  6,  7,  8],\n",
              "       [ 4,  3,  2,  1],\n",
              "       [10,  9, 12, 11]])"
            ]
          },
          "metadata": {
            "tags": []
          },
          "execution_count": 24
        }
      ]
    },
    {
      "cell_type": "code",
      "metadata": {
        "id": "stPz_OloMsV3",
        "colab_type": "code",
        "outputId": "a9c57f0c-d71d-47a5-9a2d-1f8610c5ff4e",
        "colab": {
          "base_uri": "https://localhost:8080/",
          "height": 70
        }
      },
      "source": [
        "np.sort(arr2d, axis=0)"
      ],
      "execution_count": 0,
      "outputs": [
        {
          "output_type": "execute_result",
          "data": {
            "text/plain": [
              "array([[ 4,  3,  2,  1],\n",
              "       [ 5,  6,  7,  8],\n",
              "       [10,  9, 12, 11]])"
            ]
          },
          "metadata": {
            "tags": []
          },
          "execution_count": 25
        }
      ]
    },
    {
      "cell_type": "code",
      "metadata": {
        "id": "PzfQlskGMkxG",
        "colab_type": "code",
        "outputId": "58fef873-b65f-4eff-d550-12a78b105a8c",
        "colab": {
          "base_uri": "https://localhost:8080/",
          "height": 70
        }
      },
      "source": [
        "np.argsort(arr2d, axis=0)"
      ],
      "execution_count": 0,
      "outputs": [
        {
          "output_type": "execute_result",
          "data": {
            "text/plain": [
              "array([[1, 1, 1, 1],\n",
              "       [0, 0, 0, 0],\n",
              "       [2, 2, 2, 2]])"
            ]
          },
          "metadata": {
            "tags": []
          },
          "execution_count": 26
        }
      ]
    },
    {
      "cell_type": "code",
      "metadata": {
        "id": "FkR8MHeGMoHo",
        "colab_type": "code",
        "colab": {}
      },
      "source": [
        ""
      ],
      "execution_count": 0,
      "outputs": []
    }
  ]
}